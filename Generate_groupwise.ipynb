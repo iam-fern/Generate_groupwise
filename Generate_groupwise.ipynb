{
  "nbformat": 4,
  "nbformat_minor": 0,
  "metadata": {
    "colab": {
      "name": "Generate_groupwise.ipynb",
      "provenance": [],
      "include_colab_link": true
    },
    "kernelspec": {
      "name": "python3",
      "display_name": "Python 3"
    },
    "language_info": {
      "name": "python"
    }
  },
  "cells": [
    {
      "cell_type": "markdown",
      "metadata": {
        "id": "view-in-github",
        "colab_type": "text"
      },
      "source": [
        "<a href=\"https://colab.research.google.com/github/iam-fern/Generate_groupwise/blob/main/Generate_groupwise.ipynb\" target=\"_parent\"><img src=\"https://colab.research.google.com/assets/colab-badge.svg\" alt=\"Open In Colab\"/></a>"
      ]
    },
    {
      "cell_type": "markdown",
      "metadata": {
        "id": "byXsWNU60cf1"
      },
      "source": [
        "#Generating random numbers from a uniform distribution\n",
        "https://subscription.packtpub.com/book/big_data_and_business_intelligence/9781787125698/12/ch25lvl1sec126/generating-random-numbers-from-a-uniform-distribution"
      ]
    },
    {
      "cell_type": "code",
      "metadata": {
        "id": "v72YiLRL0bNa"
      },
      "source": [
        "import pandas as pd\n",
        "import numpy as np\n",
        "import scipy as sp\n",
        "import matplotlib.pyplot as plt\n",
        "from scipy.stats import norm\n",
        "from numpy.random import normal\n",
        "import statistics\n",
        "import statistics as stats\n",
        "import scipy.stats as ss\n",
        "from scipy import stats\n",
        "import scipy.stats as stats\n",
        "import random\n",
        "import statsmodels.api as sm\n",
        "%matplotlib inline\n",
        "from google.colab import files\n",
        "import math"
      ],
      "execution_count": 20,
      "outputs": []
    },
    {
      "cell_type": "code",
      "source": [
        "sp.random.seed(314157)"
      ],
      "metadata": {
        "id": "QAjrLrdL5T5D"
      },
      "execution_count": 21,
      "outputs": []
    },
    {
      "cell_type": "code",
      "source": [
        "n=250\n",
        "rep=0\n",
        "#sp.random.seed(314157)\n",
        "table_data_all=pd.DataFrame({\"rep\":[]})\n",
        "for i in range(1000):\n",
        "    data = pd.DataFrame({\"X1\" : sp.random.uniform(20, 100, n),\n",
        "                         \"X2\" : sp.random.uniform(20, 100, n),\n",
        "                         \"X3\" : sp.random.uniform(20, 100, n)})\n",
        "    table_data = data.copy()\n",
        "\n",
        "    table_data.loc[:math.floor(n/2),\"e\"] = table_data.loc[:math.floor(n/2),\"X2\"].apply(lambda X2: np.random.normal(0, math.sqrt(0.3)))\n",
        "    table_data.loc[math.floor(n/2):,\"e\"] = table_data.loc[math.floor(n/2):,\"X2\"].apply(lambda X2: np.random.normal(0, math.sqrt(0.7)))\n",
        "    # display(table_data.loc[:math.floor(n/2),\"e\"])\n",
        "    # display(table_data.loc[math.floor(n/2):,\"e\"])\n",
        "    # ==========================================\n",
        "\n",
        "    # table_data = data_new.copy()\n",
        "\n",
        "\n",
        "    table_data[\"Y\"] = 10 + table_data[\"X1\"] + table_data[\"X2\"] + table_data[\"X3\"] + table_data[\"e\"]\n",
        "    \n",
        "    table_data=table_data.reset_index(drop=True).reset_index()\n",
        "    table_data[\"rep\"]=rep\n",
        "    new_data = table_data.copy()\n",
        "\n",
        "    # ==========================================\n",
        "    x = new_data[[\"X1\", \"X2\", \"X3\",]]\n",
        "    y = new_data[\"Y\"]\n",
        "    x = sm.add_constant(x)\n",
        "    model = sm.OLS(y, x).fit()\n",
        "    y_pred = model.predict(x)\n",
        "\n",
        "    df = pd.DataFrame({\"Actual\": y, \"Predicted\": y_pred})\n",
        "\n",
        "    table_data_new = pd.DataFrame({\"x1\"    : new_data[\"X1\"],\n",
        "                                   \"x2\"    : new_data[\"X2\"],\n",
        "                                   \"x3\"    : new_data[\"X3\"],\n",
        "                                   \"e\"     : new_data[\"e\"],\n",
        "                                   \"Y\"     : df[\"Actual\"],\n",
        "                                   \"y_hat\" : df[\"Predicted\"]})\n",
        "    table_data_new[\"e_hat\"] = table_data_new[\"Y\"] - table_data_new[\"y_hat\"]\n",
        "    table_data_new[\"rep\"] = rep\n",
        "    table_data_new = table_data_new.reset_index()\n",
        "    table_data_new\n",
        "    # ==========================================\n",
        "    table_data_all=pd.concat([table_data_all,table_data_new],axis=0,ignore_index=True,sort=False)\n",
        "    rep+=1\n",
        "    if rep==1000:\n",
        "      break\n",
        "table_data_all=table_data_all.set_index([\"rep\", \"index\"])\n",
        "table_data_all"
      ],
      "metadata": {
        "id": "cIq_D6Q0MvvH",
        "outputId": "26786791-e74e-4571-93c0-315801229d6d",
        "colab": {
          "base_uri": "https://localhost:8080/",
          "height": 455
        }
      },
      "execution_count": 34,
      "outputs": [
        {
          "output_type": "execute_result",
          "data": {
            "text/html": [
              "\n",
              "  <div id=\"df-c0f0a27b-cfe5-4192-8f0d-9632b0f069ad\">\n",
              "    <div class=\"colab-df-container\">\n",
              "      <div>\n",
              "<style scoped>\n",
              "    .dataframe tbody tr th:only-of-type {\n",
              "        vertical-align: middle;\n",
              "    }\n",
              "\n",
              "    .dataframe tbody tr th {\n",
              "        vertical-align: top;\n",
              "    }\n",
              "\n",
              "    .dataframe thead th {\n",
              "        text-align: right;\n",
              "    }\n",
              "</style>\n",
              "<table border=\"1\" class=\"dataframe\">\n",
              "  <thead>\n",
              "    <tr style=\"text-align: right;\">\n",
              "      <th></th>\n",
              "      <th></th>\n",
              "      <th>x1</th>\n",
              "      <th>x2</th>\n",
              "      <th>x3</th>\n",
              "      <th>e</th>\n",
              "      <th>Y</th>\n",
              "      <th>y_hat</th>\n",
              "      <th>e_hat</th>\n",
              "    </tr>\n",
              "    <tr>\n",
              "      <th>rep</th>\n",
              "      <th>index</th>\n",
              "      <th></th>\n",
              "      <th></th>\n",
              "      <th></th>\n",
              "      <th></th>\n",
              "      <th></th>\n",
              "      <th></th>\n",
              "      <th></th>\n",
              "    </tr>\n",
              "  </thead>\n",
              "  <tbody>\n",
              "    <tr>\n",
              "      <th rowspan=\"5\" valign=\"top\">0.0</th>\n",
              "      <th>0.0</th>\n",
              "      <td>56.240697</td>\n",
              "      <td>59.790478</td>\n",
              "      <td>96.345138</td>\n",
              "      <td>-0.457889</td>\n",
              "      <td>221.918424</td>\n",
              "      <td>222.306316</td>\n",
              "      <td>-0.387892</td>\n",
              "    </tr>\n",
              "    <tr>\n",
              "      <th>1.0</th>\n",
              "      <td>31.170168</td>\n",
              "      <td>77.821530</td>\n",
              "      <td>29.746165</td>\n",
              "      <td>1.348487</td>\n",
              "      <td>150.086350</td>\n",
              "      <td>148.752371</td>\n",
              "      <td>1.333978</td>\n",
              "    </tr>\n",
              "    <tr>\n",
              "      <th>2.0</th>\n",
              "      <td>48.204779</td>\n",
              "      <td>51.898958</td>\n",
              "      <td>77.552351</td>\n",
              "      <td>-0.521437</td>\n",
              "      <td>187.134651</td>\n",
              "      <td>187.606600</td>\n",
              "      <td>-0.471949</td>\n",
              "    </tr>\n",
              "    <tr>\n",
              "      <th>3.0</th>\n",
              "      <td>29.816796</td>\n",
              "      <td>37.925826</td>\n",
              "      <td>51.403943</td>\n",
              "      <td>-0.388083</td>\n",
              "      <td>128.758483</td>\n",
              "      <td>129.129893</td>\n",
              "      <td>-0.371411</td>\n",
              "    </tr>\n",
              "    <tr>\n",
              "      <th>4.0</th>\n",
              "      <td>45.847129</td>\n",
              "      <td>98.844331</td>\n",
              "      <td>95.218304</td>\n",
              "      <td>-0.051827</td>\n",
              "      <td>249.857937</td>\n",
              "      <td>249.860446</td>\n",
              "      <td>-0.002509</td>\n",
              "    </tr>\n",
              "    <tr>\n",
              "      <th>...</th>\n",
              "      <th>...</th>\n",
              "      <td>...</td>\n",
              "      <td>...</td>\n",
              "      <td>...</td>\n",
              "      <td>...</td>\n",
              "      <td>...</td>\n",
              "      <td>...</td>\n",
              "      <td>...</td>\n",
              "    </tr>\n",
              "    <tr>\n",
              "      <th rowspan=\"5\" valign=\"top\">999.0</th>\n",
              "      <th>245.0</th>\n",
              "      <td>50.357651</td>\n",
              "      <td>31.016573</td>\n",
              "      <td>69.036455</td>\n",
              "      <td>0.336718</td>\n",
              "      <td>160.747397</td>\n",
              "      <td>160.345890</td>\n",
              "      <td>0.401507</td>\n",
              "    </tr>\n",
              "    <tr>\n",
              "      <th>246.0</th>\n",
              "      <td>28.432652</td>\n",
              "      <td>45.178178</td>\n",
              "      <td>97.441154</td>\n",
              "      <td>0.126247</td>\n",
              "      <td>181.178230</td>\n",
              "      <td>180.966562</td>\n",
              "      <td>0.211668</td>\n",
              "    </tr>\n",
              "    <tr>\n",
              "      <th>247.0</th>\n",
              "      <td>39.746505</td>\n",
              "      <td>58.334134</td>\n",
              "      <td>56.378939</td>\n",
              "      <td>-0.328157</td>\n",
              "      <td>164.131421</td>\n",
              "      <td>164.404535</td>\n",
              "      <td>-0.273114</td>\n",
              "    </tr>\n",
              "    <tr>\n",
              "      <th>248.0</th>\n",
              "      <td>93.773014</td>\n",
              "      <td>61.266084</td>\n",
              "      <td>73.296155</td>\n",
              "      <td>-0.992911</td>\n",
              "      <td>237.342343</td>\n",
              "      <td>238.326655</td>\n",
              "      <td>-0.984313</td>\n",
              "    </tr>\n",
              "    <tr>\n",
              "      <th>249.0</th>\n",
              "      <td>57.794771</td>\n",
              "      <td>24.092458</td>\n",
              "      <td>97.635080</td>\n",
              "      <td>1.485500</td>\n",
              "      <td>191.007810</td>\n",
              "      <td>189.451785</td>\n",
              "      <td>1.556024</td>\n",
              "    </tr>\n",
              "  </tbody>\n",
              "</table>\n",
              "<p>250000 rows × 7 columns</p>\n",
              "</div>\n",
              "      <button class=\"colab-df-convert\" onclick=\"convertToInteractive('df-c0f0a27b-cfe5-4192-8f0d-9632b0f069ad')\"\n",
              "              title=\"Convert this dataframe to an interactive table.\"\n",
              "              style=\"display:none;\">\n",
              "        \n",
              "  <svg xmlns=\"http://www.w3.org/2000/svg\" height=\"24px\"viewBox=\"0 0 24 24\"\n",
              "       width=\"24px\">\n",
              "    <path d=\"M0 0h24v24H0V0z\" fill=\"none\"/>\n",
              "    <path d=\"M18.56 5.44l.94 2.06.94-2.06 2.06-.94-2.06-.94-.94-2.06-.94 2.06-2.06.94zm-11 1L8.5 8.5l.94-2.06 2.06-.94-2.06-.94L8.5 2.5l-.94 2.06-2.06.94zm10 10l.94 2.06.94-2.06 2.06-.94-2.06-.94-.94-2.06-.94 2.06-2.06.94z\"/><path d=\"M17.41 7.96l-1.37-1.37c-.4-.4-.92-.59-1.43-.59-.52 0-1.04.2-1.43.59L10.3 9.45l-7.72 7.72c-.78.78-.78 2.05 0 2.83L4 21.41c.39.39.9.59 1.41.59.51 0 1.02-.2 1.41-.59l7.78-7.78 2.81-2.81c.8-.78.8-2.07 0-2.86zM5.41 20L4 18.59l7.72-7.72 1.47 1.35L5.41 20z\"/>\n",
              "  </svg>\n",
              "      </button>\n",
              "      \n",
              "  <style>\n",
              "    .colab-df-container {\n",
              "      display:flex;\n",
              "      flex-wrap:wrap;\n",
              "      gap: 12px;\n",
              "    }\n",
              "\n",
              "    .colab-df-convert {\n",
              "      background-color: #E8F0FE;\n",
              "      border: none;\n",
              "      border-radius: 50%;\n",
              "      cursor: pointer;\n",
              "      display: none;\n",
              "      fill: #1967D2;\n",
              "      height: 32px;\n",
              "      padding: 0 0 0 0;\n",
              "      width: 32px;\n",
              "    }\n",
              "\n",
              "    .colab-df-convert:hover {\n",
              "      background-color: #E2EBFA;\n",
              "      box-shadow: 0px 1px 2px rgba(60, 64, 67, 0.3), 0px 1px 3px 1px rgba(60, 64, 67, 0.15);\n",
              "      fill: #174EA6;\n",
              "    }\n",
              "\n",
              "    [theme=dark] .colab-df-convert {\n",
              "      background-color: #3B4455;\n",
              "      fill: #D2E3FC;\n",
              "    }\n",
              "\n",
              "    [theme=dark] .colab-df-convert:hover {\n",
              "      background-color: #434B5C;\n",
              "      box-shadow: 0px 1px 3px 1px rgba(0, 0, 0, 0.15);\n",
              "      filter: drop-shadow(0px 1px 2px rgba(0, 0, 0, 0.3));\n",
              "      fill: #FFFFFF;\n",
              "    }\n",
              "  </style>\n",
              "\n",
              "      <script>\n",
              "        const buttonEl =\n",
              "          document.querySelector('#df-c0f0a27b-cfe5-4192-8f0d-9632b0f069ad button.colab-df-convert');\n",
              "        buttonEl.style.display =\n",
              "          google.colab.kernel.accessAllowed ? 'block' : 'none';\n",
              "\n",
              "        async function convertToInteractive(key) {\n",
              "          const element = document.querySelector('#df-c0f0a27b-cfe5-4192-8f0d-9632b0f069ad');\n",
              "          const dataTable =\n",
              "            await google.colab.kernel.invokeFunction('convertToInteractive',\n",
              "                                                     [key], {});\n",
              "          if (!dataTable) return;\n",
              "\n",
              "          const docLinkHtml = 'Like what you see? Visit the ' +\n",
              "            '<a target=\"_blank\" href=https://colab.research.google.com/notebooks/data_table.ipynb>data table notebook</a>'\n",
              "            + ' to learn more about interactive tables.';\n",
              "          element.innerHTML = '';\n",
              "          dataTable['output_type'] = 'display_data';\n",
              "          await google.colab.output.renderOutput(dataTable, element);\n",
              "          const docLink = document.createElement('div');\n",
              "          docLink.innerHTML = docLinkHtml;\n",
              "          element.appendChild(docLink);\n",
              "        }\n",
              "      </script>\n",
              "    </div>\n",
              "  </div>\n",
              "  "
            ],
            "text/plain": [
              "                    x1         x2         x3  ...           Y       y_hat     e_hat\n",
              "rep   index                                   ...                                  \n",
              "0.0   0.0    56.240697  59.790478  96.345138  ...  221.918424  222.306316 -0.387892\n",
              "      1.0    31.170168  77.821530  29.746165  ...  150.086350  148.752371  1.333978\n",
              "      2.0    48.204779  51.898958  77.552351  ...  187.134651  187.606600 -0.471949\n",
              "      3.0    29.816796  37.925826  51.403943  ...  128.758483  129.129893 -0.371411\n",
              "      4.0    45.847129  98.844331  95.218304  ...  249.857937  249.860446 -0.002509\n",
              "...                ...        ...        ...  ...         ...         ...       ...\n",
              "999.0 245.0  50.357651  31.016573  69.036455  ...  160.747397  160.345890  0.401507\n",
              "      246.0  28.432652  45.178178  97.441154  ...  181.178230  180.966562  0.211668\n",
              "      247.0  39.746505  58.334134  56.378939  ...  164.131421  164.404535 -0.273114\n",
              "      248.0  93.773014  61.266084  73.296155  ...  237.342343  238.326655 -0.984313\n",
              "      249.0  57.794771  24.092458  97.635080  ...  191.007810  189.451785  1.556024\n",
              "\n",
              "[250000 rows x 7 columns]"
            ]
          },
          "metadata": {},
          "execution_count": 34
        }
      ]
    },
    {
      "cell_type": "code",
      "source": [
        "tablenew0 = table_data_all.loc[0.0]\n",
        "tablenew1 = table_data_all.loc[1.0]\n",
        "tablenew2 = table_data_all.loc[2.0]\n",
        "tablenew3 = table_data_all.loc[3.0]\n",
        "tablenew4 = table_data_all.loc[4.0]\n",
        "tablenew5 = table_data_all.loc[5.0]\n",
        "tablenew6 = table_data_all.loc[6.0]\n",
        "tablenew7 = table_data_all.loc[7.0]\n",
        "tablenew8 = table_data_all.loc[8.0]\n",
        "tablenew9 = table_data_all.loc[9.0]"
      ],
      "metadata": {
        "id": "2GkEbiQQTwu-"
      },
      "execution_count": 27,
      "outputs": []
    },
    {
      "cell_type": "code",
      "source": [
        "tablenew0.plot(x ='Y', y='e', kind = 'scatter')\n",
        "tablenew1.plot(x ='Y', y='e', kind = 'scatter')\n",
        "tablenew2.plot(x ='Y', y='e', kind = 'scatter')\n",
        "tablenew3.plot(x ='Y', y='e', kind = 'scatter')\n",
        "tablenew4.plot(x ='Y', y='e', kind = 'scatter')\n",
        "tablenew5.plot(x ='Y', y='e', kind = 'scatter')\n",
        "tablenew6.plot(x ='Y', y='e', kind = 'scatter')\n",
        "tablenew7.plot(x ='Y', y='e', kind = 'scatter')\n",
        "tablenew8.plot(x ='Y', y='e', kind = 'scatter')\n",
        "tablenew9.plot(x ='Y', y='e', kind = 'scatter')"
      ],
      "metadata": {
        "colab": {
          "base_uri": "https://localhost:8080/",
          "height": 1000
        },
        "id": "mFkg_VKHUDrp",
        "outputId": "58889119-3c74-4639-d5d1-401e2e45440e"
      },
      "execution_count": 28,
      "outputs": [
        {
          "output_type": "execute_result",
          "data": {
            "text/plain": [
              "<matplotlib.axes._subplots.AxesSubplot at 0x7f07725a2810>"
            ]
          },
          "metadata": {},
          "execution_count": 28
        },
        {
          "output_type": "display_data",
          "data": {
            "image/png": "[encoded data removed]",
            "text/plain": [
              "<Figure size 432x288 with 1 Axes>"
            ]
          },
          "metadata": {
            "needs_background": "light"
          }
        },
        {
          "output_type": "display_data",
          "data": {
            "image/png": "[encoded data removed]",
            "text/plain": [
              "<Figure size 432x288 with 1 Axes>"
            ]
          },
          "metadata": {
            "needs_background": "light"
          }
        },
        {
          "output_type": "display_data",
          "data": {
            "image/png": "[encoded data removed]",
            "text/plain": [
              "<Figure size 432x288 with 1 Axes>"
            ]
          },
          "metadata": {
            "needs_background": "light"
          }
        },
        {
          "output_type": "display_data",
          "data": {
            "image/png": "[encoded data removed]",
            "text/plain": [
              "<Figure size 432x288 with 1 Axes>"
            ]
          },
          "metadata": {
            "needs_background": "light"
          }
        },
        {
          "output_type": "display_data",
          "data": {
            "image/png": "[encoded data removed]",
            "text/plain": [
              "<Figure size 432x288 with 1 Axes>"
            ]
          },
          "metadata": {
            "needs_background": "light"
          }
        },
        {
          "output_type": "display_data",
          "data": {
            "image/png": "[encoded data removed]",
            "text/plain": [
              "<Figure size 432x288 with 1 Axes>"
            ]
          },
          "metadata": {
            "needs_background": "light"
          }
        },
        {
          "output_type": "display_data",
          "data": {
            "image/png": "[encoded data removed]",
            "text/plain": [
              "<Figure size 432x288 with 1 Axes>"
            ]
          },
          "metadata": {
            "needs_background": "light"
          }
        },
        {
          "output_type": "display_data",
          "data": {
            "image/png": "[encoded data removed]",
            "text/plain": [
              "<Figure size 432x288 with 1 Axes>"
            ]
          },
          "metadata": {
            "needs_background": "light"
          }
        },
        {
          "output_type": "display_data",
          "data": {
            "image/png": "[encoded data removed]",
            "text/plain": [
              "<Figure size 432x288 with 1 Axes>"
            ]
          },
          "metadata": {
            "needs_background": "light"
          }
        },
        {
          "output_type": "display_data",
          "data": {
            "image/png": "[encoded data removed]",
            "text/plain": [
              "<Figure size 432x288 with 1 Axes>"
            ]
          },
          "metadata": {
            "needs_background": "light"
          }
        }
      ]
    },
    {
      "cell_type": "code",
      "metadata": {
        "colab": {
          "base_uri": "https://localhost:8080/",
          "height": 17
        },
        "id": "h5Qlst3U2Wnq",
        "outputId": "cfeaa1c2-3083-42f0-a6cb-a9f615190c54"
      },
      "source": [
        "table_data_all.to_csv('data_groupwise_0.3_0.7_n250.csv')\n",
        "files.download('data_groupwise_0.3_0.7_n250.csv')"
      ],
      "execution_count": 35,
      "outputs": [
        {
          "output_type": "display_data",
          "data": {
            "application/javascript": [
              "\n",
              "    async function download(id, filename, size) {\n",
              "      if (!google.colab.kernel.accessAllowed) {\n",
              "        return;\n",
              "      }\n",
              "      const div = document.createElement('div');\n",
              "      const label = document.createElement('label');\n",
              "      label.textContent = `Downloading \"${filename}\": `;\n",
              "      div.appendChild(label);\n",
              "      const progress = document.createElement('progress');\n",
              "      progress.max = size;\n",
              "      div.appendChild(progress);\n",
              "      document.body.appendChild(div);\n",
              "\n",
              "      const buffers = [];\n",
              "      let downloaded = 0;\n",
              "\n",
              "      const channel = await google.colab.kernel.comms.open(id);\n",
              "      // Send a message to notify the kernel that we're ready.\n",
              "      channel.send({})\n",
              "\n",
              "      for await (const message of channel.messages) {\n",
              "        // Send a message to notify the kernel that we're ready.\n",
              "        channel.send({})\n",
              "        if (message.buffers) {\n",
              "          for (const buffer of message.buffers) {\n",
              "            buffers.push(buffer);\n",
              "            downloaded += buffer.byteLength;\n",
              "            progress.value = downloaded;\n",
              "          }\n",
              "        }\n",
              "      }\n",
              "      const blob = new Blob(buffers, {type: 'application/binary'});\n",
              "      const a = document.createElement('a');\n",
              "      a.href = window.URL.createObjectURL(blob);\n",
              "      a.download = filename;\n",
              "      div.appendChild(a);\n",
              "      a.click();\n",
              "      div.remove();\n",
              "    }\n",
              "  "
            ],
            "text/plain": [
              "<IPython.core.display.Javascript object>"
            ]
          },
          "metadata": {}
        },
        {
          "output_type": "display_data",
          "data": {
            "application/javascript": [
              "download(\"download_9fded8ce-3c86-487b-ba62-c6cdb27d9b04\", \"data_groupwise_0.3_0.7_n250.csv\", 35672333)"
            ],
            "text/plain": [
              "<IPython.core.display.Javascript object>"
            ]
          },
          "metadata": {}
        }
      ]
    }
  ]
}